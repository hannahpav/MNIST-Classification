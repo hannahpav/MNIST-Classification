{
 "cells": [
  {
   "cell_type": "code",
   "execution_count": 8,
   "id": "31f1d655",
   "metadata": {},
   "outputs": [],
   "source": [
    "from PIL import Image\n",
    "import matplotlib.pyplot as plt\n",
    "from matplotlib import colormaps as cm\n",
    "%matplotlib inline\n",
    "\n",
    "import scipy.io\n",
    "from scipy.stats import multivariate_normal as mvn\n",
    "\n",
    "import numpy as np\n",
    "import numpy.matlib\n",
    "\n",
    "import math\n",
    "import pandas as pd\n",
    "import statistics\n",
    "import scipy.sparse.linalg as ll\n",
    "from scipy import stats\n",
    "\n",
    "from mpl_toolkits.mplot3d import Axes3D\n",
    "\n",
    "## load matlab file\n",
    "mat = scipy.io.loadmat('data/data.mat')\n",
    "data = np.array((mat.get('data')).T)\n",
    "\n",
    "label_mat = scipy.io.loadmat('data/label.mat')\n",
    "label = np.array(label_mat['trueLabel'])\n",
    "\n",
    "## import files\n",
    "# xtrain = mat.get('xtrain') / 255\n",
    "# ytrain = mat.get('ytrain')\n"
   ]
  },
  {
   "cell_type": "code",
   "execution_count": 2,
   "id": "fc7eb091",
   "metadata": {},
   "outputs": [],
   "source": [
    "## from lecture code\n",
    "\n",
    "mean0 = np.mean(data, axis = 0, keepdims = True)\n",
    "ndata = data -mean0\n",
    "\n",
    "m, n = ndata.shape\n",
    "C = np.matmul(ndata.T, ndata)/m\n",
    "\n",
    "# pca the data\n",
    "d = 4  # reduced dimension\n",
    "U, S,_ = np.linalg.svd(C)\n",
    "ind = U[:,:d]\n",
    "S = np.diag(S[:d])\n",
    "\n",
    "# project the data to the top 4 principal directions\n",
    "pdata = np.dot(ndata, ind)\n",
    "\n",
    "# plt.scatter(pdata[np.where(label == 2),0],pdata[np.where(label == 2),1])\n",
    "# plt.scatter(pdata[np.where(label == 6),0],pdata[np.where(label == 6),1])\n",
    "# plt.show()"
   ]
  },
  {
   "cell_type": "code",
   "execution_count": 3,
   "id": "5a404a47",
   "metadata": {},
   "outputs": [],
   "source": [
    "# EM-GMM for MNIST\n",
    "# number of responses\n",
    "K = 2\n",
    "\n",
    "# random seed\n",
    "seed = 5\n",
    "np.random.seed(seed)\n",
    "\n",
    "# initialize prior\n",
    "pi = np.random.random(K)\n",
    "pi = pi/np.sum(pi)\n",
    "\n",
    "# initial mean and covariance\n",
    "# np.random.seed(seed)\n",
    "mu = np.random.randn(K,d)\n",
    "mu_old = mu.copy()\n",
    "\n",
    "#Covariance Matrix\n",
    "sigma = []\n",
    "for ii in range(K):\n",
    "    # to ensure the covariance psd\n",
    "    np.random.seed(seed)\n",
    "    dummy = np.random.randn(d, d)\n",
    "    sigma.append(dummy@dummy.T+np.eye(d))"
   ]
  },
  {
   "cell_type": "code",
   "execution_count": 4,
   "id": "468546da",
   "metadata": {},
   "outputs": [
    {
     "name": "stdout",
     "output_type": "stream",
     "text": [
      "training coverged\n"
     ]
    }
   ],
   "source": [
    "# initialize the posterior\n",
    "tau = np.full((m, K), fill_value=0.)\n",
    "\n",
    "# initialize\n",
    "maxIter= 100\n",
    "tol = 1e-3\n",
    "\n",
    "#\n",
    "log_likelihood = []\n",
    "iterations = []\n",
    "\n",
    "for ii in range(100):\n",
    "\n",
    "    # E-step    \n",
    "    for kk in range(K):\n",
    "        tau[:, kk] = pi[kk] * mvn.pdf(pdata, mu[kk], sigma[kk])\n",
    "        #print(tau)\n",
    "    # normalize tau\n",
    "    sum_tau = np.sum(tau, axis=1)\n",
    "    sum_tau.shape = (m,1)  \n",
    "    tau = np.divide(tau, np.tile(sum_tau, (1, K)))\n",
    "    log_likelihood.append(np.sum(np.log(sum_tau)))\n",
    "\n",
    "    # M-step\n",
    "    for kk in range(K):\n",
    "        # update prior\n",
    "        pi[kk] = np.sum(tau[:, kk])/m\n",
    "        \n",
    "        # update component mean\n",
    "        mu[kk] = pdata.T @ tau[:,kk] / np.sum(tau[:,kk], axis = 0)\n",
    "        \n",
    "        # update cov matrix\n",
    "        dummy = pdata - np.tile(mu[kk], (m,1)) # X-mu\n",
    "        sigma[kk] = dummy.T @ np.diag(tau[:,kk]) @ dummy / np.sum(tau[:,kk], axis = 0)\n",
    "        \n",
    "#     print('-----iteration---',ii)    \n",
    "    if np.linalg.norm(mu-mu_old) < tol:\n",
    "        print('training coverged')\n",
    "        break\n",
    "    mu_old = mu.copy()\n",
    "    if ii==99:\n",
    "        print('max iteration reached')\n",
    "        break"
   ]
  },
  {
   "cell_type": "code",
   "execution_count": 5,
   "id": "03ca4d41",
   "metadata": {},
   "outputs": [
    {
     "data": {
      "image/png": "[encoded data removed]",
      "text/plain": [
       "<Figure size 640x480 with 1 Axes>"
      ]
     },
     "metadata": {},
     "output_type": "display_data"
    }
   ],
   "source": [
    "plt.figure()\n",
    "plt.plot(log_likelihood,)\n",
    "plt.title('log likelihood VS iterations')\n",
    "plt.ylabel('log likelihood')\n",
    "plt.xlabel('iterations')\n",
    "plt.savefig('images/Q3/log_likelihood')\n",
    "plt.show()\n"
   ]
  },
  {
   "cell_type": "markdown",
   "id": "1cfd851a",
   "metadata": {},
   "source": [
    "b) means and covariances"
   ]
  },
  {
   "cell_type": "code",
   "execution_count": 14,
   "id": "5e431f5b",
   "metadata": {},
   "outputs": [
    {
     "name": "stdout",
     "output_type": "stream",
     "text": [
      "[[ 1.99406066  0.574035    0.11348088 -0.02367806]\n",
      " [-2.10051702 -0.60468085 -0.11953926  0.02494215]] [0.51299968 0.48700032]\n"
     ]
    }
   ],
   "source": [
    "print(mu, pi)"
   ]
  },
  {
   "cell_type": "code",
   "execution_count": 6,
   "id": "7f670b9c",
   "metadata": {},
   "outputs": [],
   "source": [
    "mu #mean\n",
    "pi #weights\n",
    "\n",
    "means1 = (ind @ mu[0] + mean0).reshape(28,28).T\n",
    "plt.imsave(('images/Q3/mean1.png'),means1, cmap = 'gray')\n",
    "\n",
    "means2 = (ind @ mu[1] + mean0).reshape(28,28).T\n",
    "plt.imsave(('images/Q3/mean2.png'),means2, cmap = 'gray')\n"
   ]
  },
  {
   "cell_type": "code",
   "execution_count": 22,
   "id": "05f7d753",
   "metadata": {},
   "outputs": [
    {
     "data": {
      "text/plain": [
       "<Axes: >"
      ]
     },
     "execution_count": 22,
     "metadata": {},
     "output_type": "execute_result"
    },
    {
     "data": {
      "image/png": "[encoded data removed]",
      "text/plain": [
       "<Figure size 640x480 with 1 Axes>"
      ]
     },
     "metadata": {},
     "output_type": "display_data"
    }
   ],
   "source": [
    "#https://python-graph-gallery.com/heatmap/#\n",
    "import seaborn as sns\n",
    "\n",
    "# 6\n",
    "#sns.heatmap(sigma[0], cmap = cm['Greens'], annot=True, cbar = False)\n",
    "\n",
    "# 2\n",
    "sns.heatmap(sigma[1], cmap = cm['Greens'], annot=True, cbar = False)"
   ]
  },
  {
   "cell_type": "code",
   "execution_count": 10,
   "id": "fb6de04c",
   "metadata": {},
   "outputs": [
    {
     "name": "stdout",
     "output_type": "stream",
     "text": [
      "6.492248062015504\n",
      "0.9394572025052191\n"
     ]
    }
   ],
   "source": [
    "#misclassification rate = (no false negatives)/(total) \n",
    "\n",
    "label_gmm = np.argmax(tau, axis =1)\n",
    "label_gmm[label_gmm==0]=6\n",
    "label_gmm[label_gmm==1]=2\n",
    "\n",
    "## for 2's\n",
    "label_2 = label[label==2]\n",
    "label_2gmm = label_gmm[(label==2)[0,:]]\n",
    "print(sum(label_2gmm!=label_2)/len(label_2)*100)\n",
    "\n",
    "## for 6's\n",
    "label_6 = label[label==6]\n",
    "label_6gmm = label_gmm[(label==6)[0,:]]\n",
    "print(sum(label_6gmm!=label_6)/len(label_6)*100)"
   ]
  },
  {
   "cell_type": "code",
   "execution_count": 13,
   "id": "31bf9e32",
   "metadata": {},
   "outputs": [
    {
     "name": "stdout",
     "output_type": "stream",
     "text": [
      "6.104651162790697\n",
      "7.933194154488518\n"
     ]
    }
   ],
   "source": [
    "##missclassification rate knn\n",
    "from sklearn.cluster import KMeans\n",
    "\n",
    "kmeans_raw = KMeans(n_clusters=2).fit(pdata)\n",
    "kmeans = kmeans_raw.labels_\n",
    "kmeans[kmeans==0]=6\n",
    "kmeans[kmeans==1]=2\n",
    "\n",
    "## for 2's\n",
    "label_2 = label[label==2]\n",
    "label_2k = kmeans[(label==2)[0,:]]\n",
    "print(sum(label_2k!=label_2)/len(label_2)*100)\n",
    "\n",
    "## for 6's\n",
    "label_6 = label[label==6]\n",
    "label_6k = kmeans[(label==6)[0,:]]\n",
    "print(sum(label_6k!=label_6)/len(label_6)*100)"
   ]
  }
 ],
 "metadata": {
  "kernelspec": {
   "display_name": "Python 3 (ipykernel)",
   "language": "python",
   "name": "python3"
  },
  "language_info": {
   "codemirror_mode": {
    "name": "ipython",
    "version": 3
   },
   "file_extension": ".py",
   "mimetype": "text/x-python",
   "name": "python",
   "nbconvert_exporter": "python",
   "pygments_lexer": "ipython3",
   "version": "3.10.6"
  }
 },
 "nbformat": 4,
 "nbformat_minor": 5
}
