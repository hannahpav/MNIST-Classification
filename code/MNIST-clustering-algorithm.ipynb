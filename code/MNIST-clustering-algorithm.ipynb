{
 "cells": [
  {
   "cell_type": "markdown",
   "id": "0a5c7dbb",
   "metadata": {},
   "source": [
    "## 4 MNIST Dataset Clustering"
   ]
  },
  {
   "cell_type": "markdown",
   "id": "ad75b247",
   "metadata": {},
   "source": [
    "This code borrows heavily from code written for homework 14 for Georgia Tech Class CSE6040, which I took in Fall 2023."
   ]
  },
  {
   "cell_type": "markdown",
   "id": "cab8de4c",
   "metadata": {},
   "source": [
    "#### Load Dataset\n",
    "To begin, we read in the datasets and import packages"
   ]
  },
  {
   "cell_type": "code",
   "execution_count": 1,
   "id": "84485afc",
   "metadata": {},
   "outputs": [],
   "source": [
    "from PIL import Image\n",
    "from matplotlib.pyplot import imshow\n",
    "%matplotlib inline\n",
    "\n",
    "import scipy.io\n",
    "import numpy as np\n",
    "import math\n",
    "import pandas as pd\n",
    "import statistics\n",
    "\n",
    "## load matlab file\n",
    "mat = scipy.io.loadmat('mnist_10digits.mat')\n",
    "\n",
    "## import files\n",
    "xtrain = mat.get('xtrain') / 255\n",
    "ytrain = mat.get('ytrain')\n"
   ]
  },
  {
   "cell_type": "markdown",
   "id": "b67c266d",
   "metadata": {},
   "source": [
    "#### Initialize Centers\n",
    "To begin k-means, random centers must be chosen. The below funtion initializes these random centers based on the shape of the image array."
   ]
  },
  {
   "cell_type": "code",
   "execution_count": 2,
   "id": "f2267a67",
   "metadata": {},
   "outputs": [],
   "source": [
    "def init_centers(X, k):\n",
    "    \"\"\"\n",
    "    Randomly samples k observations from X as centers.\n",
    "    Returns these centers as a (k x d) numpy array.\n",
    "    \"\"\"\n",
    "    r, c = X.shape\n",
    "    samples = np.random.choice(r, size=k, replace=False)\n",
    "\n",
    "    return X[samples, :]"
   ]
  },
  {
   "cell_type": "markdown",
   "id": "3053c0ef",
   "metadata": {},
   "source": [
    "#### Compute Distance\n",
    "The below function computes the Euclidian distance between point $x_i$ to center $\\mu_i$.\n",
    "We initialize a numpy array to hold the distances based on our image shape and matrix shape, and fill it with the Euclidian distances."
   ]
  },
  {
   "cell_type": "markdown",
   "id": "682211d3",
   "metadata": {},
   "source": [
    "#### Compute Distance - Euclidean\n",
    "The below function computes the Euclidean distance between point $x_i$ to center $\\mu_i$.\n",
    "We initialize a numpy array to hold the distances based on our image shape and matrix shape, and fill it with the Euclidian distances."
   ]
  },
  {
   "cell_type": "code",
   "execution_count": 3,
   "id": "dd74725d",
   "metadata": {},
   "outputs": [],
   "source": [
    "def compute_d2(X, centers):\n",
    "    m, _ = X.shape\n",
    "    n, _ = centers.shape\n",
    "    \n",
    "    S = np.empty((m, n))\n",
    "    \n",
    "    for i in range(m):\n",
    "        S[i,:] = np.linalg.norm(X[i,:] - centers, ord=2, axis=1)**2\n",
    "        \n",
    "    return S"
   ]
  },
  {
   "cell_type": "markdown",
   "id": "6b1c54cc",
   "metadata": {},
   "source": [
    "#### Compute Distance - Manhattan\n",
    "The below function computes the Manhattan distance between point $x_i$ to center $\\mu_i$.\n",
    "We initialize a numpy array to hold the distances based on our image shape and matrix shape, and fill it with the Manhattan distances."
   ]
  },
  {
   "cell_type": "code",
   "execution_count": 4,
   "id": "f6dacd97",
   "metadata": {},
   "outputs": [],
   "source": [
    "def compute_dm(X, centers):\n",
    "    m, _ = X.shape\n",
    "    n, _ = centers.shape\n",
    "    \n",
    "    S = np.empty((m, n))\n",
    "    \n",
    "    for i in range(m):\n",
    "        S[i,:] = np.linalg.norm((X[i,:] - centers), ord=1, axis = 1)\n",
    "        \n",
    "    return S\n",
    "\n"
   ]
  },
  {
   "cell_type": "markdown",
   "id": "16e4a9a7",
   "metadata": {},
   "source": [
    "#### Assign Cluster Label\n",
    "The below function uses the matrix from above to assign a cluster label to each point $x_i$.\n",
    "A single vector is returned, $y_i$, the cluster the point $x_i$ is assigned to from using $\\arg\\min$"
   ]
  },
  {
   "cell_type": "code",
   "execution_count": 5,
   "id": "5af8a9e0",
   "metadata": {},
   "outputs": [
    {
     "name": "stdout",
     "output_type": "stream",
     "text": [
      "You found: [1 0 1]\n"
     ]
    }
   ],
   "source": [
    "def assign_cluster_labels(S):\n",
    "    ### BEGIN SOLUTION\n",
    "    return np.argmin(S, axis=1)\n",
    "    ### END SOLUTION\n",
    "\n",
    "# Cluster labels:     0    1\n",
    "S_test1 = np.array([[0.3, 0.2],  # --> cluster 1\n",
    "                    [0.1, 0.5],  # --> cluster 0\n",
    "                    [0.4, 0.2]]) # --> cluster 1\n",
    "y_test1 = assign_cluster_labels(S_test1)\n",
    "print(\"You found:\", y_test1)\n",
    "\n"
   ]
  },
  {
   "cell_type": "markdown",
   "id": "8f59f77b",
   "metadata": {},
   "source": [
    "#### Update Cluster Centers\n",
    "Now we have cluster labels and the points inside. From here, we update the cluster center based on this information. The input for the function is the image and the label from the previous function. The new center is the mean of the points inside the cluster."
   ]
  },
  {
   "cell_type": "code",
   "execution_count": 6,
   "id": "819f51bd",
   "metadata": {},
   "outputs": [],
   "source": [
    "def update_centers(X, y):\n",
    "    # X[:m, :d] == m points, each of dimension d\n",
    "    # y[:m] == cluster labels\n",
    "    m, d = X.shape\n",
    "    k = max(y) + 1\n",
    "    assert m == len(y)\n",
    "    assert (min(y) >= 0)\n",
    "    \n",
    "    centers = np.empty((k, d))\n",
    "    for j in range(k):\n",
    "        # Compute the new center of cluster j,\n",
    "        # i.e., centers[j, :d].\n",
    "        ### BEGIN SOLUTION\n",
    "        centers[j, :d] = np.mean(X[y == j, :], axis=0)\n",
    "        ### END SOLUTION\n",
    "    return centers"
   ]
  },
  {
   "cell_type": "markdown",
   "id": "bc77681e",
   "metadata": {},
   "source": [
    "#### Within-Cluster Sum of Squares\n",
    "This metric tells us our sum of squares, which is the value to be minimized. The smaller the value, the more compact the clusters are, thus better assigned."
   ]
  },
  {
   "cell_type": "code",
   "execution_count": 7,
   "id": "a059bc45",
   "metadata": {},
   "outputs": [],
   "source": [
    "def WCSS(S):\n",
    "    ### BEGIN SOLUTION\n",
    "    return np.sum(np.amin(S, axis=1))\n",
    "    ### END SOLUTION"
   ]
  },
  {
   "cell_type": "markdown",
   "id": "222019c0",
   "metadata": {},
   "source": [
    "#### K-means\n",
    "The first function is chekcing if the centers have converged.\n",
    "The second function is the calculation of kmeans:\n",
    "1. initalize centers either by entering the values or by the init_centers function from before.\n",
    "2. Set that the centers have not yet converged\n",
    "3. while loop that computes distances and updates centers until they converge\n",
    "\n",
    "Two functions are run, once for the Euclidean distance and once for the Manhattan Distance. The functions return the group and the centers of the group"
   ]
  },
  {
   "cell_type": "code",
   "execution_count": 8,
   "id": "06e6cf0e",
   "metadata": {},
   "outputs": [],
   "source": [
    "def has_converged(old_centers, centers):\n",
    "    return set([tuple(x) for x in old_centers]) == set([tuple(x) for x in centers])\n",
    "\n",
    "def kmeans(X, k,\n",
    "           starting_centers=None,\n",
    "           max_steps=np.inf):\n",
    "    if starting_centers is None:\n",
    "        centers = init_centers(X, k)\n",
    "    else:\n",
    "        centers = starting_centers\n",
    "        \n",
    "    converged = False\n",
    "    labels = np.zeros(len(X))\n",
    "    i = 1\n",
    "    while (not converged) and (i <= max_steps):\n",
    "        old_centers = centers\n",
    "        ### BEGIN SOLUTION\n",
    "        S = compute_d2(X, centers)\n",
    "        labels = assign_cluster_labels(S)\n",
    "        centers = update_centers(X, labels)\n",
    "        converged = has_converged(old_centers, centers)\n",
    "        ### END SOLUTION\n",
    "\n",
    "    return labels, centers\n",
    "\n",
    "def kmeans_manh(X, k,\n",
    "           starting_centers=None,\n",
    "           max_steps=np.inf):\n",
    "    if starting_centers is None:\n",
    "        centers = init_centers(X, k)\n",
    "    else:\n",
    "        centers = starting_centers\n",
    "        \n",
    "    converged = False\n",
    "    labels = np.zeros(len(X))\n",
    "    i = 1\n",
    "    while (not converged) and (i <= max_steps):\n",
    "        old_centers = centers\n",
    "        ### BEGIN SOLUTION\n",
    "        S = compute_dm(X, centers)\n",
    "        labels = assign_cluster_labels(S)\n",
    "        centers = update_centers(X, labels)\n",
    "        converged = has_converged(old_centers, centers)\n",
    "        ### END SOLUTION\n",
    "\n",
    "    return labels, centers"
   ]
  },
  {
   "cell_type": "markdown",
   "id": "be6fd3d8",
   "metadata": {},
   "source": [
    "#### Build models for each k-means"
   ]
  },
  {
   "cell_type": "code",
   "execution_count": 9,
   "id": "d3ec6309",
   "metadata": {},
   "outputs": [],
   "source": [
    "labels_l2 = kmeans(xtrain, 10)\n",
    "labels_m = kmeans_manh(xtrain, 10)"
   ]
  },
  {
   "cell_type": "markdown",
   "id": "61f8a948",
   "metadata": {},
   "source": [
    "#### Calculating Purity Score\n",
    "The k-means function above groups points into clusters. For each data point, the answer is in the data set ytrain.\n",
    "1. Assign label outputs to the nodes, which are the unique values 0-9, the digits.\n",
    "2. Within the group, calculate the most frequent occurence.\n",
    "3. Calculate purity score as ratio of most frequence occurence to number in group.\n"
   ]
  },
  {
   "cell_type": "code",
   "execution_count": 10,
   "id": "f4d99a46",
   "metadata": {},
   "outputs": [
    {
     "data": {
      "text/html": [
       "<div>\n",
       "<style scoped>\n",
       "    .dataframe tbody tr th:only-of-type {\n",
       "        vertical-align: middle;\n",
       "    }\n",
       "\n",
       "    .dataframe tbody tr th {\n",
       "        vertical-align: top;\n",
       "    }\n",
       "\n",
       "    .dataframe thead th {\n",
       "        text-align: right;\n",
       "    }\n",
       "</style>\n",
       "<table border=\"1\" class=\"dataframe\">\n",
       "  <thead>\n",
       "    <tr style=\"text-align: right;\">\n",
       "      <th></th>\n",
       "      <th>group</th>\n",
       "      <th>score</th>\n",
       "    </tr>\n",
       "  </thead>\n",
       "  <tbody>\n",
       "    <tr>\n",
       "      <th>0</th>\n",
       "      <td>0.0</td>\n",
       "      <td>0.787945</td>\n",
       "    </tr>\n",
       "    <tr>\n",
       "      <th>1</th>\n",
       "      <td>1.0</td>\n",
       "      <td>0.551765</td>\n",
       "    </tr>\n",
       "    <tr>\n",
       "      <th>2</th>\n",
       "      <td>2.0</td>\n",
       "      <td>0.638134</td>\n",
       "    </tr>\n",
       "    <tr>\n",
       "      <th>3</th>\n",
       "      <td>3.0</td>\n",
       "      <td>0.610178</td>\n",
       "    </tr>\n",
       "    <tr>\n",
       "      <th>4</th>\n",
       "      <td>4.0</td>\n",
       "      <td>0.344574</td>\n",
       "    </tr>\n",
       "    <tr>\n",
       "      <th>5</th>\n",
       "      <td>5.0</td>\n",
       "      <td>0.321527</td>\n",
       "    </tr>\n",
       "    <tr>\n",
       "      <th>6</th>\n",
       "      <td>6.0</td>\n",
       "      <td>0.828320</td>\n",
       "    </tr>\n",
       "    <tr>\n",
       "      <th>7</th>\n",
       "      <td>7.0</td>\n",
       "      <td>0.513807</td>\n",
       "    </tr>\n",
       "    <tr>\n",
       "      <th>8</th>\n",
       "      <td>8.0</td>\n",
       "      <td>0.505213</td>\n",
       "    </tr>\n",
       "    <tr>\n",
       "      <th>9</th>\n",
       "      <td>9.0</td>\n",
       "      <td>0.443100</td>\n",
       "    </tr>\n",
       "  </tbody>\n",
       "</table>\n",
       "</div>"
      ],
      "text/plain": [
       "   group     score\n",
       "0    0.0  0.787945\n",
       "1    1.0  0.551765\n",
       "2    2.0  0.638134\n",
       "3    3.0  0.610178\n",
       "4    4.0  0.344574\n",
       "5    5.0  0.321527\n",
       "6    6.0  0.828320\n",
       "7    7.0  0.513807\n",
       "8    8.0  0.505213\n",
       "9    9.0  0.443100"
      ]
     },
     "metadata": {},
     "output_type": "display_data"
    },
    {
     "name": "stdout",
     "output_type": "stream",
     "text": [
      "\\begin{tabular}{lrr}\n",
      "\\toprule\n",
      " & group & score \\\\\n",
      "\\midrule\n",
      "0 & 0.000000 & 0.787945 \\\\\n",
      "1 & 1.000000 & 0.551765 \\\\\n",
      "2 & 2.000000 & 0.638134 \\\\\n",
      "3 & 3.000000 & 0.610178 \\\\\n",
      "4 & 4.000000 & 0.344574 \\\\\n",
      "5 & 5.000000 & 0.321527 \\\\\n",
      "6 & 6.000000 & 0.828320 \\\\\n",
      "7 & 7.000000 & 0.513807 \\\\\n",
      "8 & 8.000000 & 0.505213 \\\\\n",
      "9 & 9.000000 & 0.443100 \\\\\n",
      "\\bottomrule\n",
      "\\end{tabular}\n",
      "\n"
     ]
    }
   ],
   "source": [
    "### For L2 Square Distance\n",
    "nodes = np.unique(labels_l2[0])\n",
    "\n",
    "centers = labels_l2[1]\n",
    "label = labels_l2[0]\n",
    "nodes_purity = pd.DataFrame(columns = [\"group\", \"score\"]) ## establish dataframe\n",
    "\n",
    "for n in nodes:\n",
    "    grouplabel = label[(ytrain[0]==n)] ## the group according to training\n",
    "    \n",
    "    # Program to find most frequent element in a list\n",
    "    # approach 7 https://www.geeksforgeeks.org/python-find-most-frequent-element-in-a-list/\n",
    "    def most_frequent(List):\n",
    "        unique, counts = np.unique(List, return_counts=True)\n",
    "        index = np.argmax(counts)\n",
    "        return unique[index]\n",
    "\n",
    "    freq = (most_frequent(grouplabel)) ## find most frequent for group type\n",
    "    purity = sum(grouplabel==freq) / len(grouplabel) ## calculate purity score\n",
    "    \n",
    "\n",
    "    nodes_purity.loc[len(nodes_purity.index)] = [n.astype(int), purity]\n",
    "\n",
    "display(nodes_purity)\n",
    "\n",
    "print(nodes_purity.to_latex())"
   ]
  },
  {
   "cell_type": "code",
   "execution_count": 14,
   "id": "d1094042",
   "metadata": {},
   "outputs": [
    {
     "data": {
      "text/html": [
       "<div>\n",
       "<style scoped>\n",
       "    .dataframe tbody tr th:only-of-type {\n",
       "        vertical-align: middle;\n",
       "    }\n",
       "\n",
       "    .dataframe tbody tr th {\n",
       "        vertical-align: top;\n",
       "    }\n",
       "\n",
       "    .dataframe thead th {\n",
       "        text-align: right;\n",
       "    }\n",
       "</style>\n",
       "<table border=\"1\" class=\"dataframe\">\n",
       "  <thead>\n",
       "    <tr style=\"text-align: right;\">\n",
       "      <th></th>\n",
       "      <th>group</th>\n",
       "      <th>score</th>\n",
       "    </tr>\n",
       "  </thead>\n",
       "  <tbody>\n",
       "    <tr>\n",
       "      <th>0</th>\n",
       "      <td>0.0</td>\n",
       "      <td>0.423096</td>\n",
       "    </tr>\n",
       "    <tr>\n",
       "      <th>1</th>\n",
       "      <td>1.0</td>\n",
       "      <td>0.997330</td>\n",
       "    </tr>\n",
       "    <tr>\n",
       "      <th>2</th>\n",
       "      <td>2.0</td>\n",
       "      <td>0.440584</td>\n",
       "    </tr>\n",
       "    <tr>\n",
       "      <th>3</th>\n",
       "      <td>3.0</td>\n",
       "      <td>0.426358</td>\n",
       "    </tr>\n",
       "    <tr>\n",
       "      <th>4</th>\n",
       "      <td>4.0</td>\n",
       "      <td>0.428278</td>\n",
       "    </tr>\n",
       "    <tr>\n",
       "      <th>5</th>\n",
       "      <td>5.0</td>\n",
       "      <td>0.352702</td>\n",
       "    </tr>\n",
       "    <tr>\n",
       "      <th>6</th>\n",
       "      <td>6.0</td>\n",
       "      <td>0.608314</td>\n",
       "    </tr>\n",
       "    <tr>\n",
       "      <th>7</th>\n",
       "      <td>7.0</td>\n",
       "      <td>0.676616</td>\n",
       "    </tr>\n",
       "    <tr>\n",
       "      <th>8</th>\n",
       "      <td>8.0</td>\n",
       "      <td>0.402666</td>\n",
       "    </tr>\n",
       "    <tr>\n",
       "      <th>9</th>\n",
       "      <td>9.0</td>\n",
       "      <td>0.506472</td>\n",
       "    </tr>\n",
       "  </tbody>\n",
       "</table>\n",
       "</div>"
      ],
      "text/plain": [
       "   group     score\n",
       "0    0.0  0.423096\n",
       "1    1.0  0.997330\n",
       "2    2.0  0.440584\n",
       "3    3.0  0.426358\n",
       "4    4.0  0.428278\n",
       "5    5.0  0.352702\n",
       "6    6.0  0.608314\n",
       "7    7.0  0.676616\n",
       "8    8.0  0.402666\n",
       "9    9.0  0.506472"
      ]
     },
     "metadata": {},
     "output_type": "display_data"
    },
    {
     "name": "stdout",
     "output_type": "stream",
     "text": [
      "\\begin{tabular}{lrr}\n",
      "\\toprule\n",
      " & group & score \\\\\n",
      "\\midrule\n",
      "0 & 0.000000 & 0.423096 \\\\\n",
      "1 & 1.000000 & 0.997330 \\\\\n",
      "2 & 2.000000 & 0.440584 \\\\\n",
      "3 & 3.000000 & 0.426358 \\\\\n",
      "4 & 4.000000 & 0.428278 \\\\\n",
      "5 & 5.000000 & 0.352702 \\\\\n",
      "6 & 6.000000 & 0.608314 \\\\\n",
      "7 & 7.000000 & 0.676616 \\\\\n",
      "8 & 8.000000 & 0.402666 \\\\\n",
      "9 & 9.000000 & 0.506472 \\\\\n",
      "\\bottomrule\n",
      "\\end{tabular}\n",
      "\n"
     ]
    }
   ],
   "source": [
    "### For Manhattan Distance\n",
    "\n",
    "nodes_m = np.unique(labels_m[0])\n",
    "\n",
    "centers_m = labels_m[1]\n",
    "label_m = labels_m[0]\n",
    "nodes_puritym = pd.DataFrame(columns = [\"group\", \"score\"]) ## establish dataframe\n",
    "\n",
    "for n in nodes_m:\n",
    "    grouplabel = label_m[(ytrain[0]==n)] ## the grouop according to training\n",
    "    \n",
    "    # Program to find most frequent\n",
    "    # element in a list\n",
    "    # approach 7 https://www.geeksforgeeks.org/python-find-most-frequent-element-in-a-list/\n",
    "    def most_frequent(List):\n",
    "        unique, counts = np.unique(List, return_counts=True)\n",
    "        index = np.argmax(counts)\n",
    "        return unique[index]\n",
    "\n",
    "    freq = (most_frequent(grouplabel)) ## find most frequent for group type\n",
    "    purity = sum(grouplabel==freq) / len(grouplabel) ## calculate purity score\n",
    "    \n",
    "\n",
    "    nodes_puritym.loc[len(nodes_puritym.index)] = [n.astype(int), purity]\n",
    "    \n",
    "display(nodes_puritym)\n",
    "print(nodes_puritym.to_latex())"
   ]
  },
  {
   "cell_type": "code",
   "execution_count": 15,
   "id": "cd5a165e",
   "metadata": {},
   "outputs": [
    {
     "name": "stdout",
     "output_type": "stream",
     "text": [
      "Mean Purity Score for Euclidean Distance: 0.554\n",
      "Minimum Purity Score for Euclidean Distance: 0.322\n",
      "Maximum Purity Score for Euclidean Distance: 0.828\n",
      "\n",
      "Mean Purity Score for Manhattan Distance: 0.526\n",
      "Minimum Purity Score for Manhattan Distance: 0.353\n",
      "Maximum Purity Score for Manhattan Distance: 0.997\n"
     ]
    }
   ],
   "source": [
    "print(f'''Mean Purity Score for Euclidean Distance: {round(statistics.mean(nodes_purity[\"score\"]), 3)}\n",
    "Minimum Purity Score for Euclidean Distance: {round(min(nodes_purity[\"score\"]), 3)}\n",
    "Maximum Purity Score for Euclidean Distance: {round(max(nodes_purity[\"score\"]), 3)}\n",
    "\n",
    "Mean Purity Score for Manhattan Distance: {round(statistics.mean(nodes_puritym[\"score\"]), 3)}\n",
    "Minimum Purity Score for Manhattan Distance: {round(min(nodes_puritym[\"score\"]), 3)}\n",
    "Maximum Purity Score for Manhattan Distance: {round(max(nodes_puritym[\"score\"]), 3)}''')"
   ]
  }
 ],
 "metadata": {
  "kernelspec": {
   "display_name": "Python 3 (ipykernel)",
   "language": "python",
   "name": "python3"
  },
  "language_info": {
   "codemirror_mode": {
    "name": "ipython",
    "version": 3
   },
   "file_extension": ".py",
   "mimetype": "text/x-python",
   "name": "python",
   "nbconvert_exporter": "python",
   "pygments_lexer": "ipython3",
   "version": "3.10.6"
  }
 },
 "nbformat": 4,
 "nbformat_minor": 5
}
